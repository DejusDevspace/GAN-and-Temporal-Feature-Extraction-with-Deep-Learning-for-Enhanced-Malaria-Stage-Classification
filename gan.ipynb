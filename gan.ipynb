{
  "cells": [
    {
      "cell_type": "markdown",
      "metadata": {
        "id": "cJdXXN8TJM3g"
      },
      "source": [
        "## Dataset Preprocessing"
      ]
    },
    {
      "cell_type": "code",
      "execution_count": null,
      "metadata": {
        "id": "g3lL6D2zJM3k"
      },
      "outputs": [],
      "source": [
        "from torchvision import transforms\n",
        "from torch.utils.data import Dataset, DataLoader\n",
        "import os\n",
        "from PIL import Image\n",
        "import torch\n",
        "import torch.nn as nn\n",
        "import numpy as np"
      ]
    },
    {
      "cell_type": "code",
      "source": [
        "from google.colab import drive\n",
        "drive.mount('/content/drive')"
      ],
      "metadata": {
        "colab": {
          "base_uri": "https://localhost:8080/"
        },
        "id": "XvYAQ6umLQrC",
        "outputId": "5d1964de-b3a7-45d4-c72f-d0b8bb24ffc1"
      },
      "execution_count": null,
      "outputs": [
        {
          "output_type": "stream",
          "name": "stdout",
          "text": [
            "Mounted at /content/drive\n"
          ]
        }
      ]
    },
    {
      "cell_type": "code",
      "source": [
        "class MalariaDataset(Dataset):\n",
        "    def __init__(self, root_dir, transform=None):\n",
        "        \"\"\"\n",
        "        Args:\n",
        "            root_dir (str): Root directory containing species folders.\n",
        "            transform (callable, optional): Transform to apply to the images.\n",
        "        \"\"\"\n",
        "        self.root_dir = root_dir\n",
        "        self.transform = transform\n",
        "        self.data = []\n",
        "\n",
        "        # Mapping for stages in binary vector\n",
        "        stage_mapping = {'R': 0, 'T': 1, 'S': 2, 'G': 3}\n",
        "\n",
        "        # Loading the images from the species directory \"specie/img/\"\n",
        "        for species in os.listdir(self.root_dir):\n",
        "            species_dir = os.path.join(self.root_dir, species, 'img')\n",
        "            if not os.path.isdir(species_dir):\n",
        "                continue\n",
        "\n",
        "            for filename in os.listdir(species_dir):\n",
        "                if filename.endswith('.jpg'):\n",
        "                    # Parsing species and stages\n",
        "                    filepath = os.path.join(species_dir, filename)\n",
        "                    stage_tag = filename.split('-')[-1].split('.')[0]\n",
        "                    # For multi-stage cases\n",
        "                    stages = stage_tag.split('_')\n",
        "\n",
        "                    # Stage vector for mapping stages\n",
        "                    stage_vector = [0, 0, 0, 0]\n",
        "                    for stage in stages:\n",
        "                        if stage in stage_mapping:\n",
        "                            # print('stage:', stage)\n",
        "                            stage_vector[stage_mapping[stage]] = 1\n",
        "                    self.data.append({'filepath': filepath, 'species': species, 'stages': stage_vector})\n",
        "\n",
        "    def __len__(self):\n",
        "        return len(self.data)\n",
        "\n",
        "    def __getitem__(self, idx):\n",
        "        item = self.data[idx]\n",
        "        image = Image.open(item['filepath']).convert('RGB')\n",
        "\n",
        "        if self.transform:\n",
        "            image = self.transform(image)\n",
        "\n",
        "        return image, item['species'], item['stages']"
      ],
      "metadata": {
        "id": "myBLENXiJqqK"
      },
      "execution_count": null,
      "outputs": []
    },
    {
      "cell_type": "code",
      "execution_count": null,
      "metadata": {
        "colab": {
          "base_uri": "https://localhost:8080/"
        },
        "id": "Nf_7FcrHJM3p",
        "outputId": "7b8cd591-f921-42f3-ee3e-1865e5bf6b04"
      },
      "outputs": [
        {
          "output_type": "stream",
          "name": "stdout",
          "text": [
            "Dataset size: 210\n",
            "Species: Falciparum, Stages: [1, 0, 0, 0]\n"
          ]
        }
      ],
      "source": [
        "# Instantiate the dataset\n",
        "root_dir = '/content/drive/MyDrive/malaria_project/malaria_dataset'\n",
        "transform = transforms.Compose([\n",
        "    transforms.Resize((224, 224)),\n",
        "    transforms.ToTensor(),\n",
        "    transforms.Normalize(mean=[0.5, 0.5, 0.5], std=[0.5, 0.5, 0.5])\n",
        "])\n",
        "\n",
        "dataset = MalariaDataset(root_dir, transform=transform)\n",
        "print(f\"Dataset size: {len(dataset)}\")\n",
        "\n",
        "# Test single data retrieval from dataset\n",
        "image, species, stages = dataset[0]\n",
        "print(f\"Species: {species}, Stages: {stages}\")"
      ]
    },
    {
      "cell_type": "code",
      "execution_count": null,
      "metadata": {
        "colab": {
          "base_uri": "https://localhost:8080/"
        },
        "id": "ezWSCwf5JM3v",
        "outputId": "f38286b0-b877-4c11-ed11-ada68b886540"
      },
      "outputs": [
        {
          "output_type": "stream",
          "name": "stdout",
          "text": [
            "Batch 1\n",
            "Images shape: torch.Size([16, 3, 224, 224])\n",
            "Species: ('Falciparum', 'Falciparum', 'Falciparum', 'Falciparum', 'Ovale', 'Falciparum', 'Malariae', 'Malariae', 'Falciparum', 'Falciparum', 'Falciparum', 'Falciparum', 'Falciparum', 'Falciparum', 'Malariae', 'Vivax')\n",
            "Stages: [tensor([1, 1, 1, 0, 0, 1, 0, 0, 0, 1, 0, 1, 0, 1, 0, 0]), tensor([0, 0, 0, 0, 1, 0, 1, 1, 1, 0, 0, 1, 0, 0, 0, 1]), tensor([0, 0, 0, 0, 0, 1, 0, 0, 0, 0, 1, 0, 1, 1, 1, 0]), tensor([0, 0, 0, 1, 0, 0, 0, 0, 1, 0, 0, 0, 0, 0, 0, 0])]\n"
          ]
        }
      ],
      "source": [
        "# Create DataLoader\n",
        "data_loader = DataLoader(dataset, batch_size=16, shuffle=True)\n",
        "\n",
        "# Checking a batch\n",
        "for batch_idx, (images, species, stages) in enumerate(data_loader):\n",
        "    print(f\"Batch {batch_idx + 1}\")\n",
        "    print(f\"Images shape: {images.shape}\")\n",
        "    print(f\"Species: {species}\")\n",
        "    print(f\"Stages: {stages}\")\n",
        "    break"
      ]
    },
    {
      "cell_type": "markdown",
      "metadata": {
        "id": "hihgIe9jJM3z"
      },
      "source": [
        "## GAN Training"
      ]
    },
    {
      "cell_type": "code",
      "execution_count": null,
      "metadata": {
        "id": "YIG8xEFhJM32"
      },
      "outputs": [],
      "source": [
        "import torch.optim as optim\n",
        "from torchvision.utils import save_image"
      ]
    },
    {
      "cell_type": "code",
      "source": [
        "# Generator\n",
        "class Generator(nn.Module):\n",
        "    def __init__(self, latent_dim: int, img_size: int):\n",
        "        super(Generator, self).__init__()\n",
        "\n",
        "        self.latent_dim = latent_dim\n",
        "        self.img_size = img_size\n",
        "        self.img_shape = (3, self.img_size, self.img_size)\n",
        "\n",
        "        def layer(in_neurons: int, out_neurons: int, normalize_: bool = True, dropout_: bool = False):\n",
        "            block = [nn.Linear(in_neurons, out_neurons)]\n",
        "            if normalize_:\n",
        "                block.append(nn.BatchNorm1d(out_neurons))\n",
        "            if dropout_:\n",
        "                block.append(nn.Dropout(0.3))\n",
        "            block.append(nn.LeakyReLU(0.2))\n",
        "            return block\n",
        "\n",
        "        self.model = nn.Sequential(\n",
        "            *layer(self.latent_dim, 128, normalize_=False, dropout_=True),\n",
        "            *layer(128, 256, dropout_=True),\n",
        "            *layer(256, 512, dropout_=True),\n",
        "            *layer(512, 1024),\n",
        "            *layer(1024, 2048),\n",
        "            nn.Linear(2048, int(np.prod(self.img_shape))),\n",
        "            nn.Tanh()\n",
        "        )\n",
        "\n",
        "    def forward(self, z):\n",
        "        z = self.model(z)\n",
        "        z = z.view(z.size(0), 3, self.img_size, self.img_size)\n",
        "        return z\n",
        "\n",
        "# Discriminator\n",
        "class Discriminator(nn.Module):\n",
        "    def __init__(self, img_size: int):\n",
        "        super(Discriminator, self).__init__()\n",
        "\n",
        "        self.img_size = img_size\n",
        "        self.img_shape = (3, self.img_size, self.img_size)\n",
        "\n",
        "        def layer(in_neurons, out_neurons, dropout_=False):\n",
        "            block = [nn.Linear(in_neurons, out_neurons), nn.LeakyReLU(0.2)]\n",
        "            if dropout_:\n",
        "                block.append(nn.Dropout(0.3))\n",
        "            return block\n",
        "\n",
        "        self.model = nn.Sequential(\n",
        "            *layer(int(np.prod(self.img_shape)), 1024, dropout_=True),\n",
        "            *layer(1024, 512, dropout_=True),\n",
        "            *layer(512, 256),\n",
        "            nn.Linear(256, 1),\n",
        "            nn.Sigmoid()\n",
        "        )\n",
        "\n",
        "    def forward(self, z):\n",
        "        z = z.view(z.size(0), -1)\n",
        "        return self.model(z)"
      ],
      "metadata": {
        "id": "m6NP1xWfBVuN"
      },
      "execution_count": null,
      "outputs": []
    },
    {
      "cell_type": "code",
      "execution_count": null,
      "metadata": {
        "id": "_p2vRwVhJM35"
      },
      "outputs": [],
      "source": [
        "# For GPU\n",
        "ngpu = 1\n",
        "\n",
        "device = torch.device(\"cuda\" if (torch.cuda.is_available() and ngpu > 0) else \"cpu\")"
      ]
    },
    {
      "cell_type": "code",
      "execution_count": null,
      "metadata": {
        "id": "e0Mzo2_QJM3_"
      },
      "outputs": [],
      "source": [
        "img_size = 224\n",
        "\n",
        "# Hyperparameters\n",
        "latent_dim = 128\n",
        "epochs = 400\n",
        "batch_size = 32\n",
        "lr = 0.0002"
      ]
    },
    {
      "cell_type": "code",
      "execution_count": null,
      "metadata": {
        "id": "HQrmnlAkJM4C"
      },
      "outputs": [],
      "source": [
        "# Initialize models\n",
        "generator = Generator(latent_dim, img_size=img_size).to(device)\n",
        "discriminator = Discriminator(img_size=img_size).to(device)"
      ]
    },
    {
      "cell_type": "code",
      "execution_count": null,
      "metadata": {
        "id": "_ABvwhwKJM4E"
      },
      "outputs": [],
      "source": [
        "# Loss function and optimizers\n",
        "criterion = nn.BCELoss()\n",
        "optimizer_G = optim.Adam(generator.parameters(), lr=lr, betas=(0.5, 0.999))\n",
        "optimizer_D = optim.Adam(discriminator.parameters(), lr=lr, betas=(0.5, 0.999))"
      ]
    },
    {
      "cell_type": "code",
      "execution_count": null,
      "metadata": {
        "colab": {
          "base_uri": "https://localhost:8080/"
        },
        "id": "e5ZSWPDgJM4F",
        "outputId": "a0d9dc7c-0a25-42f8-d215-a48bcdd86f57"
      },
      "outputs": [
        {
          "output_type": "stream",
          "name": "stdout",
          "text": [
            "Epoch [1/400]\n",
            "[0/14] --------------- Discriminator Loss: 1.3886 - Generator Loss: 1.7959\n",
            "Epoch [2/400]\n",
            "[0/14] --------------- Discriminator Loss: 1.4597 - Generator Loss: 7.6888\n",
            "Epoch [3/400]\n",
            "[0/14] --------------- Discriminator Loss: 2.1736 - Generator Loss: 4.3686\n",
            "Epoch [4/400]\n",
            "[0/14] --------------- Discriminator Loss: 1.2875 - Generator Loss: 4.9161\n",
            "Epoch [5/400]\n",
            "[0/14] --------------- Discriminator Loss: 3.6989 - Generator Loss: 0.6239\n",
            "Epoch [6/400]\n",
            "[0/14] --------------- Discriminator Loss: 5.5686 - Generator Loss: 7.1128\n",
            "Epoch [7/400]\n",
            "[0/14] --------------- Discriminator Loss: 1.4421 - Generator Loss: 2.4969\n",
            "Epoch [8/400]\n",
            "[0/14] --------------- Discriminator Loss: 3.1587 - Generator Loss: 0.3512\n",
            "Epoch [9/400]\n",
            "[0/14] --------------- Discriminator Loss: 1.9770 - Generator Loss: 3.2177\n",
            "Epoch [10/400]\n",
            "[0/14] --------------- Discriminator Loss: 2.9886 - Generator Loss: 1.1634\n",
            "Epoch [11/400]\n",
            "[0/14] --------------- Discriminator Loss: 4.9721 - Generator Loss: 0.2262\n",
            "Epoch [12/400]\n",
            "[0/14] --------------- Discriminator Loss: 1.3543 - Generator Loss: 0.8587\n",
            "Epoch [13/400]\n",
            "[0/14] --------------- Discriminator Loss: 1.8259 - Generator Loss: 0.8835\n",
            "Epoch [14/400]\n",
            "[0/14] --------------- Discriminator Loss: 2.2502 - Generator Loss: 1.2291\n",
            "Epoch [15/400]\n",
            "[0/14] --------------- Discriminator Loss: 1.4757 - Generator Loss: 1.1599\n",
            "Epoch [16/400]\n",
            "[0/14] --------------- Discriminator Loss: 2.1352 - Generator Loss: 0.4012\n",
            "Epoch [17/400]\n",
            "[0/14] --------------- Discriminator Loss: 1.7974 - Generator Loss: 0.6269\n",
            "Epoch [18/400]\n",
            "[0/14] --------------- Discriminator Loss: 1.5714 - Generator Loss: 0.6278\n",
            "Epoch [19/400]\n",
            "[0/14] --------------- Discriminator Loss: 1.3570 - Generator Loss: 1.0065\n",
            "Epoch [20/400]\n",
            "[0/14] --------------- Discriminator Loss: 1.8033 - Generator Loss: 0.4666\n",
            "Epoch [21/400]\n",
            "[0/14] --------------- Discriminator Loss: 1.4372 - Generator Loss: 0.8559\n",
            "Epoch [22/400]\n",
            "[0/14] --------------- Discriminator Loss: 1.5630 - Generator Loss: 1.6083\n",
            "Epoch [23/400]\n",
            "[0/14] --------------- Discriminator Loss: 1.3238 - Generator Loss: 1.7014\n",
            "Epoch [24/400]\n",
            "[0/14] --------------- Discriminator Loss: 1.2882 - Generator Loss: 1.8251\n",
            "Epoch [25/400]\n",
            "[0/14] --------------- Discriminator Loss: 1.3797 - Generator Loss: 1.0795\n",
            "Epoch [26/400]\n",
            "[0/14] --------------- Discriminator Loss: 1.9205 - Generator Loss: 1.1462\n",
            "Epoch [27/400]\n",
            "[0/14] --------------- Discriminator Loss: 1.9340 - Generator Loss: 3.4025\n",
            "Epoch [28/400]\n",
            "[0/14] --------------- Discriminator Loss: 1.6928 - Generator Loss: 1.0981\n",
            "Epoch [29/400]\n",
            "[0/14] --------------- Discriminator Loss: 1.4977 - Generator Loss: 0.6789\n",
            "Epoch [30/400]\n",
            "[0/14] --------------- Discriminator Loss: 1.6054 - Generator Loss: 0.8164\n",
            "Epoch [31/400]\n",
            "[0/14] --------------- Discriminator Loss: 1.3655 - Generator Loss: 1.2103\n",
            "Epoch [32/400]\n",
            "[0/14] --------------- Discriminator Loss: 1.6462 - Generator Loss: 1.0359\n",
            "Epoch [33/400]\n",
            "[0/14] --------------- Discriminator Loss: 1.7131 - Generator Loss: 1.6888\n",
            "Epoch [34/400]\n",
            "[0/14] --------------- Discriminator Loss: 1.4485 - Generator Loss: 0.9267\n",
            "Epoch [35/400]\n",
            "[0/14] --------------- Discriminator Loss: 2.2978 - Generator Loss: 1.8136\n",
            "Epoch [36/400]\n",
            "[0/14] --------------- Discriminator Loss: 1.5465 - Generator Loss: 0.7362\n",
            "Epoch [37/400]\n",
            "[0/14] --------------- Discriminator Loss: 1.0272 - Generator Loss: 1.6844\n",
            "Epoch [38/400]\n",
            "[0/14] --------------- Discriminator Loss: 1.7365 - Generator Loss: 2.6026\n",
            "Epoch [39/400]\n",
            "[0/14] --------------- Discriminator Loss: 2.2426 - Generator Loss: 0.5294\n",
            "Epoch [40/400]\n",
            "[0/14] --------------- Discriminator Loss: 1.4740 - Generator Loss: 2.0359\n"
          ]
        }
      ],
      "source": [
        "# Training loop\n",
        "for epoch in range(epochs):\n",
        "    for batch_idx, (real_images, _, _) in enumerate(data_loader):\n",
        "        # Move real images to device\n",
        "        real_images = real_images.to(device)\n",
        "        batch_size = real_images.size(0)\n",
        "\n",
        "        # Labels\n",
        "        real_labels = torch.ones(batch_size, 1).to(device)\n",
        "        fake_labels = torch.zeros(batch_size, 1).to(device)\n",
        "\n",
        "        # --------------------------------------------------- #\n",
        "        # --------------- Train Discriminator --------------- #\n",
        "        # --------------------------------------------------- #\n",
        "\n",
        "        # Generate random noise\n",
        "        z = torch.randn(batch_size, latent_dim).to(device)\n",
        "        # Generate fake images from noise\n",
        "        fake_images = generator(z)\n",
        "\n",
        "        real_loss = criterion(discriminator(real_images), real_labels)\n",
        "        fake_loss = criterion(discriminator(fake_images.detach()), fake_labels)\n",
        "        d_loss = real_loss + fake_loss\n",
        "\n",
        "        optimizer_D.zero_grad()\n",
        "        d_loss.backward()\n",
        "        optimizer_D.step()\n",
        "\n",
        "        # --------------------------------------------------- #\n",
        "        # ----------------- Train Generator ----------------- #\n",
        "        # --------------------------------------------------- #\n",
        "\n",
        "        # Generate random noise\n",
        "        z = torch.randn(batch_size, latent_dim).to(device)\n",
        "        fake_images = generator(z)\n",
        "        g_loss = criterion(discriminator(fake_images), real_labels)\n",
        "\n",
        "        optimizer_G.zero_grad()\n",
        "        g_loss.backward()\n",
        "        optimizer_G.step()\n",
        "\n",
        "        # Print progress\n",
        "        if batch_idx % 14 == 0:\n",
        "            print(f\"Epoch [{epoch+1}/{epochs}]\\n[{batch_idx}/{len(data_loader)}] --------------- \"\n",
        "                  f\"Discriminator Loss: {d_loss.item():.4f} - Generator Loss: {g_loss.item():.4f}\")\n",
        "\n",
        "      # -------------------------------------------------------- #\n",
        "      # ----------------------- Logging ------------------------ #\n",
        "      # -------------------------------------------------------- #\n",
        "      # TODO: Implement logging...\n",
        "\n",
        "    # Save generator output after every epoch\n",
        "    z = torch.randn(16, latent_dim).to(device)\n",
        "    generated_images = generator(z)\n",
        "    save_image(generated_images, f\"/content/drive/MyDrive/malaria_project/generated_images/sixth_gan/generated_images_epoch_{(epoch+1):03}.png\", normalize=True)\n",
        "\n",
        "# Save models\n",
        "torch.save(generator.state_dict(), \"/content/drive/MyDrive/malaria_project/checkpoints/sixth_generator.pth\")\n",
        "torch.save(discriminator.state_dict(), \"/content/drive/MyDrive/malaria_project/checkpoints/sixth_discriminator.pth\")"
      ]
    },
    {
      "cell_type": "code",
      "execution_count": null,
      "metadata": {
        "id": "_udqxcI3JM4H"
      },
      "outputs": [],
      "source": []
    }
  ],
  "metadata": {
    "kernelspec": {
      "display_name": "Python 3",
      "name": "python3"
    },
    "language_info": {
      "codemirror_mode": {
        "name": "ipython",
        "version": 3
      },
      "file_extension": ".py",
      "mimetype": "text/x-python",
      "name": "python",
      "nbconvert_exporter": "python",
      "pygments_lexer": "ipython3",
      "version": "3.12.4"
    },
    "colab": {
      "provenance": [],
      "gpuType": "T4"
    },
    "accelerator": "GPU"
  },
  "nbformat": 4,
  "nbformat_minor": 0
}